{
 "cells": [
  {
   "cell_type": "code",
   "execution_count": 1,
   "id": "1c4b0e8f-ab50-4b46-8b2c-0878c2886a11",
   "metadata": {},
   "outputs": [],
   "source": [
    "import os\n",
    "import tempfile\n",
    "import numpy as np\n",
    "import shutil\n",
    "import urllib\n",
    "import matplotlib.pyplot as plt\n",
    "import fsspec\n",
    "\n",
    "import xarray as xr\n",
    "from azure.storage.blob import ContainerClient"
   ]
  },
  {
   "cell_type": "code",
   "execution_count": 2,
   "id": "e601b4eb-a0b2-460e-8ace-f2eba4b03d63",
   "metadata": {},
   "outputs": [
    {
     "name": "stderr",
     "output_type": "stream",
     "text": [
      "/srv/conda/envs/notebook/lib/python3.8/site-packages/distributed/node.py:160: UserWarning: Port 8787 is already in use.\n",
      "Perhaps you already have a cluster running?\n",
      "Hosting the HTTP server on port 46185 instead\n",
      "  warnings.warn(\n"
     ]
    },
    {
     "data": {
      "text/html": [
       "<table style=\"border: 2px solid white;\">\n",
       "<tr>\n",
       "<td style=\"vertical-align: top; border: 0px solid white\">\n",
       "<h3 style=\"text-align: left;\">Client</h3>\n",
       "<ul style=\"text-align: left; list-style: none; margin: 0; padding: 0;\">\n",
       "  <li><b>Scheduler: </b>tcp://127.0.0.1:40109</li>\n",
       "  <li><b>Dashboard: </b><a href='/proxy/8787/status' target='_blank'>/proxy/8787/status</a></li>\n",
       "</ul>\n",
       "</td>\n",
       "<td style=\"vertical-align: top; border: 0px solid white\">\n",
       "<h3 style=\"text-align: left;\">Cluster</h3>\n",
       "<ul style=\"text-align: left; list-style:none; margin: 0; padding: 0;\">\n",
       "  <li><b>Workers: </b>4</li>\n",
       "  <li><b>Cores: </b>4</li>\n",
       "  <li><b>Memory: </b>32.00 GiB</li>\n",
       "</ul>\n",
       "</td>\n",
       "</tr>\n",
       "</table>"
      ],
      "text/plain": [
       "<Client: 'tcp://127.0.0.1:40109' processes=4 threads=4, memory=32.00 GiB>"
      ]
     },
     "execution_count": 2,
     "metadata": {},
     "output_type": "execute_result"
    }
   ],
   "source": [
    "from dask.distributed import Client\n",
    "client = Client()\n",
    "client"
   ]
  },
  {
   "cell_type": "markdown",
   "id": "4ffc0a84-9b41-435c-9e0e-f30e6d852620",
   "metadata": {},
   "source": [
    "### Do setup stuff to get file paths"
   ]
  },
  {
   "cell_type": "code",
   "execution_count": 3,
   "id": "eb8f29e3-adc4-4cce-b08b-f245d9857b38",
   "metadata": {},
   "outputs": [
    {
     "name": "stdout",
     "output_type": "stream",
     "text": [
      "Finding blobs matching prefex: ABI-L2-MCMIPF/2020/002/\n"
     ]
    }
   ],
   "source": [
    "tempdir = os.path.join(tempfile.gettempdir(), 'goes')\n",
    "os.makedirs(tempdir, exist_ok=True)\n",
    "\n",
    "product = 'ABI-L2-MCMIPF'\n",
    "syear = '2020'; sday='002'; shour = '14'\n",
    "\n",
    "storage_account_url = 'https://goeseuwest.blob.core.windows.net'\n",
    "container_name = 'noaa-goes16'\n",
    "goes_blob_root = storage_account_url + '/' + container_name + '/'\n",
    "\n",
    "goes_container_client = ContainerClient(account_url=storage_account_url, container_name=container_name, credential=None)\n",
    "\n",
    "prefix = product + '/' + syear + '/' + sday + '/' \n",
    "print('Finding blobs matching prefex: {}'.format(prefix))\n",
    "generator = goes_container_client.list_blobs(name_starts_with=prefix)\n",
    "blobs = []\n",
    "for blob in generator:\n",
    "    blobs.append(blob.name)\n"
   ]
  },
  {
   "cell_type": "code",
   "execution_count": 4,
   "id": "979259be-7557-4b2d-8140-91a463ab9199",
   "metadata": {},
   "outputs": [],
   "source": [
    "fs = fsspec.filesystem(\"abfs\", account_name='goeseuwest')\n",
    "\n",
    "urllist = ['abfs://noaa-goes16/' + u  for u in blobs]"
   ]
  },
  {
   "cell_type": "code",
   "execution_count": 5,
   "id": "b22d073f-b4f8-468a-805b-8069e5e7f9c1",
   "metadata": {},
   "outputs": [],
   "source": [
    "# fs = fsspec.filesystem(\"http\")\n",
    "\n",
    "# urllist = [goes_blob_root + u + \"#mode=bytes\" for u in blobs]"
   ]
  },
  {
   "cell_type": "code",
   "execution_count": 6,
   "id": "d0f07f6e-85ae-437a-9105-6d3f4536d634",
   "metadata": {},
   "outputs": [],
   "source": [
    "fobjlst = [fs.open(u) for u in urllist]"
   ]
  },
  {
   "cell_type": "code",
   "execution_count": null,
   "id": "4282d86a-1d0b-40e9-9a20-9b28fc30912b",
   "metadata": {},
   "outputs": [],
   "source": [
    "%%time\n",
    "ds = xr.open_mfdataset(fobjlst, combine='nested', concat_dim='t', \n",
    "                       coords='minimal', data_vars='minimal', compat='override', \n",
    "                       parallel=True)"
   ]
  },
  {
   "cell_type": "markdown",
   "id": "a6aa5105-60b4-45bb-b502-06a652919e04",
   "metadata": {},
   "source": [
    "### Calculate true color\n",
    "https://unidata.github.io/python-gallery/examples/mapping_GOES16_TrueColor.html"
   ]
  },
  {
   "cell_type": "code",
   "execution_count": 27,
   "id": "2c50bb68-b5e1-4a99-a7cb-b1684731a32e",
   "metadata": {},
   "outputs": [],
   "source": [
    "r = ds['CMI_C02'].data; r = np.clip(r, 0, 1)\n",
    "g = ds['CMI_C03'].data; g = np.clip(g, 0, 1)\n",
    "b = ds['CMI_C01'].data; b = np.clip(b, 0, 1)"
   ]
  },
  {
   "cell_type": "code",
   "execution_count": 28,
   "id": "f9998655-ea38-4d3f-b8cc-c2def01d5a53",
   "metadata": {},
   "outputs": [],
   "source": [
    "gamma = 2.5; r = np.power(r, 1/gamma); g = np.power(g, 1/gamma); b = np.power(b, 1/gamma)\n",
    "g_true = 0.45 * r + 0.1 * g + 0.45 * b\n",
    "g_true = np.clip(g_true, 0, 1)"
   ]
  },
  {
   "cell_type": "code",
   "execution_count": 29,
   "id": "c8cd11b5-9438-4929-a1a9-ab9aad35f934",
   "metadata": {},
   "outputs": [],
   "source": [
    "nt,nx,ny = r.shape\n",
    "rgb = []\n",
    "rgb_true = []\n",
    "for t in range(nt):\n",
    "    rgb_true.append(np.dstack((r[t,:], g_true[t,:], b[t,:])))\n",
    "    rgb.append(np.dstack((r[t,:], g[t,:], b[t,:])))"
   ]
  },
  {
   "cell_type": "markdown",
   "id": "bef4eff9-9d40-4a31-858c-c288f8bcb66e",
   "metadata": {},
   "source": [
    "### \"True\" green"
   ]
  },
  {
   "cell_type": "code",
   "execution_count": 30,
   "id": "7c1d5aea-f7b3-47ed-90a4-2906f6a11675",
   "metadata": {},
   "outputs": [],
   "source": [
    "from matplotlib.animation import FuncAnimation"
   ]
  },
  {
   "cell_type": "code",
   "execution_count": 46,
   "id": "8f5af244-9b12-46d7-a6ce-0c942ebbe014",
   "metadata": {},
   "outputs": [
    {
     "data": {
      "text/plain": [
       "<Figure size 750x750 with 0 Axes>"
      ]
     },
     "metadata": {},
     "output_type": "display_data"
    }
   ],
   "source": [
    "fig = plt.figure(figsize=(7.5,7.5), dpi=100)\n",
    "\n",
    "import metpy\n",
    "import cartopy.crs as ccrs\n",
    "\n",
    "\n",
    "def init():\n",
    "    dummy_channel = ds.metpy.parse_cf('CMI_C01')\n",
    "    x = dummy_channel.x; y = dummy_channel.y\n",
    "    ax = fig.add_subplot(111, projection = dummy_channel.metpy.cartopy_crs)\n",
    "\n",
    "def update_anim(i): \n",
    "    ax.clear()\n",
    "    ax.imshow(rgb_true[i], origin='upper', extent=(x.min(), x.max(), y.min(), y.max()))\n",
    "    ax.coastlines()\n",
    "    ax.add_feature(ccrs.cartopy.feature.BORDERS)\n",
    "  \n",
    "# update_anim(1)\n",
    "animator = FuncAnimation(fig, update_anim, frames=len(urllist), interval=1, init_func=init)\n",
    "plt.show()"
   ]
  },
  {
   "cell_type": "markdown",
   "id": "bb7ffa32-56d0-4599-9805-bd7807df21dd",
   "metadata": {},
   "source": [
    "***\n",
    "## Processing times:\n",
    "|Action | Time | Note |\n",
    "|-------:|:------| :---|\n",
    "|Open dataset | | |\n",
    "| Make single plot | | |\n",
    "| Make animation | | |"
   ]
  },
  {
   "cell_type": "code",
   "execution_count": null,
   "id": "7ba38f73-e382-49b5-90dd-27316978ddcd",
   "metadata": {},
   "outputs": [],
   "source": []
  }
 ],
 "metadata": {
  "kernelspec": {
   "display_name": "Python 3",
   "language": "python",
   "name": "python3"
  },
  "language_info": {
   "codemirror_mode": {
    "name": "ipython",
    "version": 3
   },
   "file_extension": ".py",
   "mimetype": "text/x-python",
   "name": "python",
   "nbconvert_exporter": "python",
   "pygments_lexer": "ipython3",
   "version": "3.8.10"
  }
 },
 "nbformat": 4,
 "nbformat_minor": 5
}
