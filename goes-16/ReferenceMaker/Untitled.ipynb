{
 "cells": [
  {
   "cell_type": "code",
   "execution_count": null,
   "id": "176b4527-7807-439c-a5f2-fb2d872687f9",
   "metadata": {},
   "outputs": [],
   "source": [
    "# import xarray as xr\n",
    "# import numpy as np\n",
    "# import matplotlib.pyplot as plt\n",
    "# import s3fs\n",
    "# import datetime as dt\n",
    "# import zipfile\n",
    "# import logging\n",
    "# import fsspec\n",
    "# import json\n",
    "# from tqdm import tqdm\n",
    "# from glob import glob\n",
    "# import os\n",
    "\n",
    "# from azure.storage.blob import ContainerClient\n",
    "# import tempfile"
   ]
  },
  {
   "cell_type": "code",
   "execution_count": 3,
   "id": "2c44052a-a771-44d9-a09a-60064833ac1d",
   "metadata": {},
   "outputs": [],
   "source": [
    "# %%time\n",
    "# import fsspec\n",
    "# from fsspec_reference_maker.hdf import SingleHdf5ToZarr\n",
    "# import json\n",
    "\n",
    "# url = 's3://noaa-goes16/ABI-L2-MCMIPF/2020/002/00/OR_ABI-L2-MCMIPF-M6_G16_s20200020000216_e20200020009524_c20200020010031.nc'\n",
    "\n",
    "# so = dict(\n",
    "#         m÷ode=\"rb\", anon=True, default_fill_cache=False, default_cache_type=\"none\",\n",
    "# )\n",
    "\n",
    "# with fsspec.open(url, **so) as inf:\n",
    "#         h5chunks = SingleHdf5ToZarr(inf, url)\n",
    "#         print(h5chunks.translate())"
   ]
  },
  {
   "cell_type": "code",
   "execution_count": 1,
   "id": "58db6778-2d3d-4575-9a51-f2665b8715e5",
   "metadata": {},
   "outputs": [
    {
     "name": "stdout",
     "output_type": "stream",
     "text": [
      "2021.06.0\n",
      "0.18.2\n",
      "v0.7.7\n"
     ]
    }
   ],
   "source": [
    "import fsspec\n",
    "import xarray\n",
    "import adlfs\n",
    "\n",
    "print(fsspec.__version__)\n",
    "print(xarray.__version__)\n",
    "print(adlfs.__version__)"
   ]
  },
  {
   "cell_type": "code",
   "execution_count": 13,
   "id": "f2641911-75e2-4dd2-89e3-42e9396ad2f7",
   "metadata": {},
   "outputs": [
    {
     "name": "stdout",
     "output_type": "stream",
     "text": [
      "CPU times: user 8.1 s, sys: 1.45 s, total: 9.56 s\n",
      "Wall time: 37.6 s\n"
     ]
    }
   ],
   "source": [
    "%%time\n",
    "import fsspec\n",
    "from fsspec_reference_maker.hdf import SingleHdf5ToZarr\n",
    "import json\n",
    "\n",
    "url = 'az://noaa-goes16/ABI-L2-MCMIPF/2020/002/00/OR_ABI-L2-MCMIPF-M6_G16_s20200020000216_e20200020009524_c20200020010031.nc'\n",
    "\n",
    "so = dict(\n",
    "        mode=\"rb\", anon=True, default_fill_cache=False, default_cache_type=\"none\",\n",
    ")\n",
    "\n",
    "with fsspec.open(url, **so, account_name='goeseuwest') as inf:\n",
    "        h5chunks = SingleHdf5ToZarr(inf, url)\n",
    "        with open(\"test.json\", 'wb') as outf: \n",
    "            outf.write(json.dumps(h5chunks.translate()).encode())"
   ]
  },
  {
   "cell_type": "code",
   "execution_count": 9,
   "id": "d2259d8f-b5e4-4d68-b6f8-67c0abedf813",
   "metadata": {},
   "outputs": [],
   "source": [
    "with open('a.json','wb') as outf:\n",
    "    outf.write(json.dumps(htr).encode())"
   ]
  },
  {
   "cell_type": "code",
   "execution_count": null,
   "id": "b9731e64-1a85-4bc4-85f4-f0911828b382",
   "metadata": {},
   "outputs": [],
   "source": []
  },
  {
   "cell_type": "code",
   "execution_count": 1,
   "id": "57888006-317e-4205-a0f9-cbdeb81ab97a",
   "metadata": {},
   "outputs": [],
   "source": [
    "# %%time\n",
    "# import fsåspec\n",
    "# import xarray as xr\n",
    "\n",
    "# url = 's3://noaa-goes16/ABI-L2-MCMIPF/2020/002/00/OR_ABI-L2-MCMIPF-M6_G16_s20200020000216_e20200020009524_c20200020010031.nc'\n",
    "\n",
    "# fs = fsspec.filesystem('s3', anon=True)\n",
    "# f=fs.open(url)\n",
    "# ds = xr.open_dataset(f)"
   ]
  },
  {
   "cell_type": "code",
   "execution_count": 2,
   "id": "f62706cb-c66a-49e4-83bc-cac656f77ce9",
   "metadata": {},
   "outputs": [
    {
     "name": "stdout",
     "output_type": "stream",
     "text": [
      "CPU times: user 534 ms, sys: 12.1 ms, total: 547 ms\n",
      "Wall time: 1.04 s\n"
     ]
    }
   ],
   "source": [
    "%%time\n",
    "import fsspec\n",
    "import xarray as xr\n",
    "\n",
    "url = 'az://noaa-goes16/ABI-L2-MCMIPF/2020/002/00/OR_ABI-L2-MCMIPF-M6_G16_s20200020000216_e20200020009524_c20200020010031.nc'\n",
    "\n",
    "fs = fsspec.filesystem('az', account_name='goeseuwest')\n",
    "f=fs.open(url)\n",
    "ds = xr.open_dataset(f)"
   ]
  },
  {
   "cell_type": "code",
   "execution_count": null,
   "id": "e3aedac2-da51-4850-8bd1-3c6d02b8e01c",
   "metadata": {},
   "outputs": [],
   "source": []
  }
 ],
 "metadata": {
  "kernelspec": {
   "display_name": "Python 3",
   "language": "python",
   "name": "python3"
  },
  "language_info": {
   "codemirror_mode": {
    "name": "ipython",
    "version": 3
   },
   "file_extension": ".py",
   "mimetype": "text/x-python",
   "name": "python",
   "nbconvert_exporter": "python",
   "pygments_lexer": "ipython3",
   "version": "3.8.10"
  }
 },
 "nbformat": 4,
 "nbformat_minor": 5
}
