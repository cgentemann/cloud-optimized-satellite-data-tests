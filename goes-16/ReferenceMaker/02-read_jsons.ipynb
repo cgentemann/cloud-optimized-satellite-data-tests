{
 "cells": [
  {
   "cell_type": "markdown",
   "id": "a81fcd98-05e4-4760-b720-31e958e27269",
   "metadata": {},
   "source": [
    "| Action | Time | Notes|\n",
    "|  ----  |  --- |  --- |\n",
    "| Open Remote Dataset (fsspec + xarray) | 32.9s | Use `simple_templates=True` |\n",
    "| Plotting + animation | 1min 46s | |\n",
    "\n",
    "***"
   ]
  },
  {
   "cell_type": "code",
   "execution_count": null,
   "id": "98c141c8-4eed-4073-8454-35f1ea1057cc",
   "metadata": {},
   "outputs": [],
   "source": [
    "from IPython.display import HTML"
   ]
  },
  {
   "cell_type": "code",
   "execution_count": null,
   "id": "d205476c-e9a7-424d-8645-55eee4fb2a96",
   "metadata": {
    "tags": []
   },
   "outputs": [],
   "source": [
    "import xarray as xr\n",
    "import numpy as np\n",
    "import matplotlib.pyplot as plt\n",
    "import s3fs\n",
    "import datetime as dt\n",
    "import zipfile\n",
    "import logging\n",
    "import fsspec\n",
    "import ujson\n",
    "from tqdm import tqdm\n",
    "from glob import glob\n",
    "import os\n",
    "\n",
    "from azure.storage.blob import ContainerClient\n",
    "import tempfile\n",
    "from metpy import xarray\n",
    "\n",
    "import cartopy.crs as ccrs\n",
    "import cartopy.feature as cfeature\n",
    "\n",
    "import pandas as pd"
   ]
  },
  {
   "cell_type": "code",
   "execution_count": null,
   "id": "9bfed9c6-50f8-474f-aef6-2adc1129cb56",
   "metadata": {},
   "outputs": [],
   "source": [
    "from dask.distributed import Client\n",
    "client = Client()\n",
    "client"
   ]
  },
  {
   "cell_type": "code",
   "execution_count": null,
   "id": "a22656a0-f371-444a-8f47-b38b32b65b7f",
   "metadata": {},
   "outputs": [],
   "source": [
    "%%time\n",
    "fs = fsspec.filesystem('reference', fo='zip://combined.json::combined.zip', remote_protocol='az', remote_options={'account_name':'goeseuwest'}, simple_templates=True)\n",
    "\n",
    "m = fs.get_mapper(\"\")\n",
    "\n",
    "ds = xr.open_dataset(m, engine='zarr', chunks='auto')"
   ]
  },
  {
   "cell_type": "code",
   "execution_count": null,
   "id": "59544198-2782-4c85-a494-d0fd239e6044",
   "metadata": {},
   "outputs": [],
   "source": [
    "ds"
   ]
  },
  {
   "cell_type": "markdown",
   "id": "e3460975-8921-4606-b7fc-5a140d0cdf2a",
   "metadata": {},
   "source": [
    "## Lat/lon"
   ]
  },
  {
   "cell_type": "code",
   "execution_count": null,
   "id": "e946d8d2-a2cd-4ee4-8462-8a799281f24b",
   "metadata": {},
   "outputs": [],
   "source": [
    "def calc_latlon(ds):\n",
    "    # The math for this function was taken from \n",
    "    # https://makersportal.com/blog/2018/11/25/goes-r-satellite-latitude-and-longitude-grid-projection-algorithm \n",
    "\n",
    "    x = ds.x\n",
    "    y = ds.y\n",
    "    goes_imager_projection = ds.goes_imager_projection\n",
    "    \n",
    "    x,y = np.meshgrid(x,y)\n",
    "    \n",
    "    r_eq = goes_imager_projection.attrs[\"semi_major_axis\"]\n",
    "    r_pol = goes_imager_projection.attrs[\"semi_minor_axis\"]\n",
    "    l_0 = goes_imager_projection.attrs[\"longitude_of_projection_origin\"] * (np.pi/180)\n",
    "    h_sat = goes_imager_projection.attrs[\"perspective_point_height\"]\n",
    "    H = r_eq + h_sat\n",
    "    \n",
    "    a = np.sin(x)**2 + (np.cos(x)**2 * (np.cos(y)**2 + (r_eq**2 / r_pol**2) * np.sin(y)**2))\n",
    "    b = -2 * H * np.cos(x) * np.cos(y)\n",
    "    c = H**2 - r_eq**2\n",
    "    \n",
    "    r_s = (-b - np.sqrt(b**2 - 4*a*c))/(2*a)\n",
    "    \n",
    "    s_x = r_s * np.cos(x) * np.cos(y)\n",
    "    s_y = -r_s * np.sin(x)\n",
    "    s_z = r_s * np.cos(x) * np.sin(y)\n",
    "    \n",
    "    lat = np.arctan((r_eq**2 / r_pol**2) * (s_z / np.sqrt((H-s_x)**2 +s_y**2))) * (180/np.pi)\n",
    "    lon = (l_0 - np.arctan(s_y / (H-s_x))) * (180/np.pi)\n",
    "    \n",
    "    ds = ds.assign_coords({\n",
    "        \"lat\":([\"y\",\"x\"],lat),\n",
    "        \"lon\":([\"y\",\"x\"],lon)\n",
    "    })\n",
    "    ds.lat.attrs[\"units\"] = \"degrees_north\"\n",
    "    ds.lon.attrs[\"units\"] = \"degrees_east\"\n",
    "\n",
    "    return ds"
   ]
  },
  {
   "cell_type": "code",
   "execution_count": null,
   "id": "a694282a-8922-4dc7-91cf-e82f024088b9",
   "metadata": {},
   "outputs": [],
   "source": [
    "def get_xy_from_latlon(ds, lats, lons):\n",
    "    lat1, lat2 = lats\n",
    "    lon1, lon2 = lons\n",
    "\n",
    "    lat = ds.lat.data\n",
    "    lon = ds.lon.data\n",
    "    \n",
    "    x = ds.x.data\n",
    "    y = ds.y.data\n",
    "    \n",
    "    x,y = np.meshgrid(x,y)\n",
    "    \n",
    "    x = x[(lat >= lat1) & (lat <= lat2) & (lon >= lon1) & (lon <= lon2)]\n",
    "    y = y[(lat >= lat1) & (lat <= lat2) & (lon >= lon1) & (lon <= lon2)] \n",
    "    \n",
    "    return ((min(x), max(x)), (min(y), max(y)))\n"
   ]
  },
  {
   "cell_type": "code",
   "execution_count": null,
   "id": "0326afa9-6941-48ae-a4db-8ab3e1d65c26",
   "metadata": {},
   "outputs": [],
   "source": [
    "ds = calc_latlon(ds)"
   ]
  },
  {
   "cell_type": "code",
   "execution_count": null,
   "id": "c3fbfa49-dc7b-47f2-addd-5111ee56fb34",
   "metadata": {},
   "outputs": [],
   "source": [
    "top = 49.3457868 # north lat\n",
    "left = -124.7844079 # west long\n",
    "right = -66.9513812 # east long\n",
    "bottom =  24.7433195 # south lat\n",
    "\n",
    "lats = (bottom, top)\n",
    "lons = (left, right)\n",
    "\n",
    "((x1, x2), (y1,y2)) = get_xy_from_latlon(ds, lats, lons)"
   ]
  },
  {
   "cell_type": "code",
   "execution_count": null,
   "id": "16179f55-158e-4fa8-9d99-c450871ebf37",
   "metadata": {},
   "outputs": [],
   "source": [
    "%%time\n",
    "subset = ds.sel(x=slice(x1, x2), y=slice(y2,y1))\n",
    "subset"
   ]
  },
  {
   "cell_type": "markdown",
   "id": "b847f20a-4e94-4920-bf65-c5c77f1f3efd",
   "metadata": {},
   "source": [
    "### Calculate true color\n",
    "https://unidata.github.io/python-gallery/examples/mapping_GOES16_TrueColor.html"
   ]
  },
  {
   "cell_type": "code",
   "execution_count": null,
   "id": "22703f43-a707-47e8-8254-9340312255ce",
   "metadata": {
    "tags": []
   },
   "outputs": [],
   "source": [
    "nt = len(subset.t)\n",
    "\n",
    "from matplotlib.animation import FuncAnimation\n",
    "\n",
    "fig = plt.figure(figsize=(7.5,7.5), dpi=100)\n",
    "\n",
    "dummy_channel = subset.metpy.parse_cf('CMI_C01')\n",
    "x = dummy_channel.x; y = dummy_channel.y\n",
    "ax = fig.add_subplot(111, projection = dummy_channel.metpy.cartopy_crs)\n",
    "\n",
    "p = ax.imshow(subset.CMI_C13.isel(t=0), origin='upper', extent=(x.min(), x.max(), y.min(), y.max()),\n",
    "         vmin=220, vmax=290)\n",
    "ax.coastlines()\n",
    "ax.add_feature(ccrs.cartopy.feature.BORDERS)\n",
    "ax.add_feature(ccrs.cartopy.feature.STATES)\n",
    "\n",
    "ts = pd.to_datetime(str(subset.t[0].values)).strftime(\"%Y-%m-%d %H%M UTC\")\n",
    "ax.set_title(f\"GOES 16 Clean IR {ts}\")\n",
    "plt.colorbar(p, orientation='horizontal', label='Brightness Temp [K]', ax=ax)\n",
    "\n",
    "\n",
    "def update_anim(i):\n",
    "    ts = pd.to_datetime(str(subset.t[i].values)).strftime(\"%Y-%m-%d %H%M UTC\")\n",
    "    \n",
    "    ax.clear()\n",
    "    \n",
    "    p = ax.imshow(subset.CMI_C13.isel(t=i), origin='upper', extent=(x.min(), x.max(), y.min(), y.max()),\n",
    "                 vmin=220, vmax=290)\n",
    "    ax.set_title(f\"GOES 16 Clean IR {ts}\")\n",
    "    ax.coastlines()\n",
    "    ax.add_feature(ccrs.cartopy.feature.BORDERS)\n",
    "    ax.add_feature(ccrs.cartopy.feature.STATES)\n",
    "#     plt.colorbar(p, orientation='horizontal', label='Brightness Temperature [K]', ax=ax)\n",
    "    \n",
    "\n",
    "    return p\n",
    "  \n",
    "# update_anim(1)\n",
    "animator = FuncAnimation(fig, update_anim, frames=nt, interval=50)\n",
    "# plt.show()"
   ]
  },
  {
   "cell_type": "code",
   "execution_count": null,
   "id": "d4ba57c3-777a-41e8-9187-f421b6fdcc9c",
   "metadata": {},
   "outputs": [],
   "source": [
    "%time HTML(animator.to_html5_video())"
   ]
  },
  {
   "cell_type": "code",
   "execution_count": null,
   "id": "9ab709b1-9d78-464f-82d9-49fffabc2e9c",
   "metadata": {},
   "outputs": [],
   "source": []
  }
 ],
 "metadata": {
  "kernelspec": {
   "display_name": "Python 3",
   "language": "python",
   "name": "python3"
  },
  "language_info": {
   "codemirror_mode": {
    "name": "ipython",
    "version": 3
   },
   "file_extension": ".py",
   "mimetype": "text/x-python",
   "name": "python",
   "nbconvert_exporter": "python",
   "pygments_lexer": "ipython3",
   "version": "3.8.10"
  }
 },
 "nbformat": 4,
 "nbformat_minor": 5
}
